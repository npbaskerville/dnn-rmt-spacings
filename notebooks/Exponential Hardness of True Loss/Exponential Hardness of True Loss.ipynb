{
 "cells": [
  {
   "cell_type": "code",
   "execution_count": 1,
   "metadata": {},
   "outputs": [],
   "source": [
    "import os\n",
    "import pandas as pd\n",
    "import matplotlib.pyplot as plt\n",
    "import numpy as np"
   ]
  },
  {
   "cell_type": "code",
   "execution_count": 2,
   "metadata": {},
   "outputs": [],
   "source": [
    "things = []\n",
    "stuff = os.listdir('.')\n",
    "for i in range(0,len(stuff)):\n",
    "    if '.' not in stuff[i]:\n",
    "        things.append(stuff[i])"
   ]
  },
  {
   "cell_type": "code",
   "execution_count": 3,
   "metadata": {},
   "outputs": [],
   "source": [
    "losses = os.listdir('loss')\n",
    "accuracies = os.listdir('accuracy')    "
   ]
  },
  {
   "cell_type": "code",
   "execution_count": 4,
   "metadata": {},
   "outputs": [
    {
     "name": "stdout",
     "output_type": "stream",
     "text": [
      "epochs 120, best epoch 102, loss value 0.955316722393036\n",
      "epochs 120, best epoch 102, err value 0.23537994384765626\n",
      "epochs 15, best epoch 14, loss value 1.3510347604751587\n",
      "epochs 15, best epoch 13, err value 0.33343994140625\n",
      "epochs 150, best epoch 129, loss value 0.942396879196167\n",
      "epochs 150, best epoch 121, err value 0.23463996887207028\n",
      "epochs 180, best epoch 140, loss value 0.9465397000312804\n",
      "epochs 180, best epoch 149, err value 0.23498031616210935\n",
      "epochs 210, best epoch 152, loss value 0.9441246986389159\n",
      "epochs 210, best epoch 158, err value 0.23313995361328121\n",
      "epochs 270, best epoch 204, loss value 0.937919020652771\n",
      "epochs 270, best epoch 206, err value 0.23133987426757807\n",
      "epochs 30, best epoch 29, loss value 1.122058391571045\n",
      "epochs 30, best epoch 29, err value 0.27940002441406253\n",
      "epochs 300, best epoch 210, loss value 0.9315931797027588\n",
      "epochs 300, best epoch 224, err value 0.22805984497070309\n",
      "epochs 45, best epoch 44, loss value 1.0521821975708008\n",
      "epochs 45, best epoch 43, err value 0.2624800109863281\n",
      "epochs 60, best epoch 59, loss value 1.0099983215332031\n",
      "epochs 60, best epoch 56, err value 0.25289993286132817\n",
      "epochs 90, best epoch 80, loss value 0.9674670100212096\n",
      "epochs 90, best epoch 88, err value 0.2424800109863281\n"
     ]
    }
   ],
   "source": [
    "min_loss = []\n",
    "min_loss_idx = []\n",
    "min_err = []\n",
    "min_err_idx = []\n",
    "combined_loss = []\n",
    "combined_acc = []\n",
    "for i in range(0,len(losses)):\n",
    "    val = pd.read_csv('loss/'+losses[i])\n",
    "    acc = pd.read_csv('accuracy/'+accuracies[i])\n",
    "#    print('epochs {}, value {}'.format(losses[i].split('numepochs=')[1].split('-tag')[0],min(val['Value'])))\n",
    "    print('epochs {}, best epoch {}, loss value {}'.format(losses[i].split('numepochs=')[1].split('-tag')[0], np.argmin(val['Value']),min(val['Value'])))\n",
    "    print('epochs {}, best epoch {}, err value {}'.format(accuracies[i].split('numepochs=')[1].split('-tag')[0], np.argmax(acc['Value']),1-max(acc['Value'])/100))\n",
    "#     min_loss.append(min(val['Value']))\n",
    "#     min_loss_idx.append(int(losses[i].split('numepochs=')[1].split('-tag')[0]))\n",
    "    #combined_loss.append((int(losses[i].split('numepochs=')[1].split('-tag')[0]),min(val['Value'])))\n",
    "    combined_loss.append((np.argmin(val['Value']),min(val['Value'])))\n",
    "    combined_acc.append((np.argmax(acc['Value']),(100-max(acc['Value']))/100))\n",
    "    #combined_acc.append((int(accuracies[i].split('numepochs=')[1].split('-tag')[0]),min(val['Value'])))"
   ]
  },
  {
   "cell_type": "code",
   "execution_count": 5,
   "metadata": {},
   "outputs": [],
   "source": [
    "combined_loss.sort(key=lambda x:x[0])\n",
    "combined_acc.sort(key=lambda x:x[0])"
   ]
  },
  {
   "cell_type": "code",
   "execution_count": 8,
   "metadata": {},
   "outputs": [],
   "source": [
    "for i in range(0,len(combined_loss)):\n",
    "    min_loss.append(combined_loss[i][1])\n",
    "    min_loss_idx.append(combined_loss[i][0])\n",
    "    min_err.append(combined_acc[i][1])\n",
    "    min_err_idx.append(combined_acc[i][0])"
   ]
  },
  {
   "cell_type": "code",
   "execution_count": 9,
   "metadata": {},
   "outputs": [],
   "source": [
    "import scipy\n",
    "from scipy import optimize\n",
    "vals = scipy.optimize.curve_fit(lambda t,a,b,c: a+b*np.exp(c*t),  min_loss_idx,  min_loss, p0=(0.9,0.1,-0.1), maxfev=10000)"
   ]
  },
  {
   "cell_type": "code",
   "execution_count": 10,
   "metadata": {},
   "outputs": [
    {
     "data": {
      "text/plain": [
       "array([ 0.94324506,  0.76131766, -0.04584862])"
      ]
     },
     "execution_count": 10,
     "metadata": {},
     "output_type": "execute_result"
    }
   ],
   "source": [
    "vals[0]"
   ]
  },
  {
   "cell_type": "code",
   "execution_count": 11,
   "metadata": {},
   "outputs": [],
   "source": [
    "min_loss_exp = []\n",
    "for i in range(0,len(min_loss_idx)):\n",
    "    min_loss_exp.append(vals[0][0]+vals[0][1]*np.exp(vals[0][2]*min_loss_idx[i]))"
   ]
  },
  {
   "cell_type": "code",
   "execution_count": 12,
   "metadata": {},
   "outputs": [
    {
     "data": {
      "text/plain": [
       "[0.33343994140625,\n",
       " 0.2794000244140625,\n",
       " 0.2624800109863281,\n",
       " 0.2528999328613281,\n",
       " 0.24248001098632813,\n",
       " 0.23537994384765626,\n",
       " 0.2346399688720703,\n",
       " 0.23498031616210938,\n",
       " 0.23313995361328124,\n",
       " 0.23133987426757813,\n",
       " 0.2280598449707031]"
      ]
     },
     "execution_count": 12,
     "metadata": {},
     "output_type": "execute_result"
    }
   ],
   "source": [
    "min_err"
   ]
  },
  {
   "cell_type": "code",
   "execution_count": 13,
   "metadata": {},
   "outputs": [],
   "source": [
    "valsnew = scipy.optimize.curve_fit(lambda t,a,b,c: a+b*np.exp(c*t),  min_err_idx,  min_err, p0=(0.2,0.1,-0.1), maxfev=10000)"
   ]
  },
  {
   "cell_type": "code",
   "execution_count": 14,
   "metadata": {},
   "outputs": [
    {
     "data": {
      "text/plain": [
       "(array([ 0.2329546 ,  0.16744293, -0.04066735]),\n",
       " array([[ 2.04110504e-06,  2.59118537e-06, -2.42857616e-06],\n",
       "        [ 2.59118537e-06,  9.50041069e-05, -2.44814691e-05],\n",
       "        [-2.42857616e-06, -2.44814691e-05,  9.57355352e-06]]))"
      ]
     },
     "execution_count": 14,
     "metadata": {},
     "output_type": "execute_result"
    }
   ],
   "source": [
    "valsnew"
   ]
  },
  {
   "cell_type": "code",
   "execution_count": 15,
   "metadata": {},
   "outputs": [],
   "source": [
    "min_err_exp = []\n",
    "for i in range(0,len(min_loss_idx)):\n",
    "    min_err_exp.append(valsnew[0][0]+valsnew[0][1]*np.exp(valsnew[0][2]*min_err_idx[i]))"
   ]
  },
  {
   "cell_type": "code",
   "execution_count": 16,
   "metadata": {},
   "outputs": [
    {
     "data": {
      "text/plain": [
       "[1.3439278393825833,\n",
       " 1.1446748263151378,\n",
       " 1.0445070887651182,\n",
       " 0.9941511343359957,\n",
       " 0.9626817278677706,\n",
       " 0.9503336900630199,\n",
       " 0.9453006865535648,\n",
       " 0.9444864690802384,\n",
       " 0.9439611609658488,\n",
       " 0.9433110659487103,\n",
       " 0.943295192587824]"
      ]
     },
     "execution_count": 16,
     "metadata": {},
     "output_type": "execute_result"
    }
   ],
   "source": [
    "min_loss_exp"
   ]
  },
  {
   "cell_type": "code",
   "execution_count": 19,
   "metadata": {},
   "outputs": [],
   "source": [
    "names = ['Real Data','Exponential Fit']\n",
    "name_data = [min_loss,min_loss_exp]\n",
    "name_err = [min_err,min_err_exp]\n",
    "name_axes = [min_loss_idx,min_err_idx]"
   ]
  },
  {
   "cell_type": "code",
   "execution_count": 20,
   "metadata": {},
   "outputs": [
    {
     "data": {
      "image/png": "[encoded data removed]",
      "text/plain": [
       "<Figure size 288x216 with 1 Axes>"
      ]
     },
     "metadata": {
      "needs_background": "light"
     },
     "output_type": "display_data"
    }
   ],
   "source": [
    "f = []\n",
    "# import seaborn as seaborn\n",
    "from matplotlib import rc\n",
    "\n",
    "font = {\n",
    "    'family': \"serif\",\n",
    "    'weight': \"normal\",\n",
    "    'size' : 24\n",
    "}\n",
    "rc('font', **font)\n",
    "\n",
    "# color_palette = seaborn.color_palette(palette=None, n_colors=len(nuulist), desat=None)\n",
    "for i in range(0,len(names)):\n",
    "    f.append(names[i])\n",
    "\n",
    "# style = {}\n",
    "# for i in range(0,len(nuulist)):\n",
    "#     style[f[i]] = {'c': color_palette[i], 'linestyle': '-.'}\n",
    "\n",
    "style = {\n",
    "    f[0]: {'c': 'darkblue', 'linestyle': \"-\", 'linewidth': 2.5},\n",
    "    f[1]: {'c': 'red', 'linestyle': '-', 'linewidth':2.5},\n",
    "#     f[2]: {'c': 'blue','linestyle': '-',},\n",
    "#     f[3]: {'c': 'blue','linestyle': '-.','alpha':0.4},\n",
    "#     f[4]: {'c': 'purple', 'linestyle': '-'},\n",
    "#     f[5]: {'c': 'purple', 'linestyle': '-.'},\n",
    "#    f[6]: {'c': 'black', 'linestyle': '-.'},\n",
    "}\n",
    "\n",
    "# plt.title('Test Accuracy', fontsize=22)\n",
    "from mpl_toolkits.axes_grid1.inset_locator import zoomed_inset_axes\n",
    "from mpl_toolkits.axes_grid1.inset_locator import mark_inset\n",
    "fig, ax = plt.subplots(figsize=[4, 3])\n",
    "#axins = zoomed_inset_axes(ax, 3, loc=1) # zoom = 6\n",
    "\n",
    "\n",
    "handleacc = list(range(len(names)))\n",
    "for i in range(len(names)):\n",
    "    ax.plot(min_loss_idx,name_data[i], label=f[i], **style[f[i]])[0]\n",
    "#     axins.plot(newlists[i],1 - np.array(trainacc[i]) / 100, **style[f[i]])\n",
    "ax.legend( prop={'size': 16}, loc=[0.1,0.5], framealpha=0.7)\n",
    "\n",
    "\n",
    "ax.set_xlabel('Epoch', fontsize=20)\n",
    "ax.set_ylabel('Validation Loss', fontsize=20)\n",
    "ax.set_yscale('linear')\n",
    "ax.set_ylim([0.9,1.35])\n",
    "ax.set_xlim([15, 210])\n",
    "    #plt.xscale('symlog')\n",
    "ax.set_xscale('linear')\n",
    "ax.tick_params(labelsize=16)\n",
    "ax.grid()\n",
    "# axins.grid()\n",
    "# axins.tick_params(labelsize=14)\n",
    "# axins.set_xlim(87, 89)\n",
    "# axins.set_ylim(0.0, 0.17)\n",
    "\n",
    "# mark_inset(ax, axins, loc1=1, loc2=4, fc=\"none\", ec=\"0.0\")\n",
    "\n",
    "plt.savefig('Res50_loss.pdf', bbox_inches='tight')\n",
    "plt.show()\n",
    "# plt.close()"
   ]
  },
  {
   "cell_type": "code",
   "execution_count": 21,
   "metadata": {},
   "outputs": [
    {
     "data": {
      "image/png": "[encoded data removed]",
      "text/plain": [
       "<Figure size 288x216 with 1 Axes>"
      ]
     },
     "metadata": {
      "needs_background": "light"
     },
     "output_type": "display_data"
    }
   ],
   "source": [
    "f = []\n",
    "# import seaborn as seaborn\n",
    "from matplotlib import rc\n",
    "\n",
    "font = {\n",
    "    'family': \"serif\",\n",
    "    'weight': \"normal\",\n",
    "    'size' : 24\n",
    "}\n",
    "rc('font', **font)\n",
    "\n",
    "# color_palette = seaborn.color_palette(palette=None, n_colors=len(nuulist), desat=None)\n",
    "for i in range(0,len(names)):\n",
    "    f.append(names[i])\n",
    "\n",
    "# style = {}\n",
    "# for i in range(0,len(nuulist)):\n",
    "#     style[f[i]] = {'c': color_palette[i], 'linestyle': '-.'}\n",
    "\n",
    "style = {\n",
    "    f[0]: {'c': 'darkblue', 'linestyle': \"-\", 'linewidth': 2.5},\n",
    "    f[1]: {'c': 'red', 'linestyle': '-', 'linewidth':2.5},\n",
    "#     f[2]: {'c': 'blue','linestyle': '-',},\n",
    "#     f[3]: {'c': 'blue','linestyle': '-.','alpha':0.4},\n",
    "#     f[4]: {'c': 'purple', 'linestyle': '-'},\n",
    "#     f[5]: {'c': 'purple', 'linestyle': '-.'},\n",
    "#    f[6]: {'c': 'black', 'linestyle': '-.'},\n",
    "}\n",
    "\n",
    "# plt.title('Test Accuracy', fontsize=22)\n",
    "from mpl_toolkits.axes_grid1.inset_locator import zoomed_inset_axes\n",
    "from mpl_toolkits.axes_grid1.inset_locator import mark_inset\n",
    "fig, ax = plt.subplots(figsize=[4, 3])\n",
    "#axins = zoomed_inset_axes(ax, 3, loc=1) # zoom = 6\n",
    "\n",
    "\n",
    "handleacc = list(range(len(names)))\n",
    "for i in range(len(names)):\n",
    "    ax.plot(min_err_idx,name_err[i], label=f[i], **style[f[i]])[0]\n",
    "#     axins.plot(newlists[i],1 - np.array(trainacc[i]) / 100, **style[f[i]])\n",
    "ax.legend( prop={'size': 16}, loc=[0.1,0.5], framealpha=0.7)\n",
    "\n",
    "\n",
    "ax.set_xlabel('Epoch', fontsize=20)\n",
    "ax.set_ylabel('Validation Error', fontsize=20)\n",
    "ax.set_yscale('linear')\n",
    "ax.set_ylim([0.22,0.35])\n",
    "ax.set_xlim([15, 210])\n",
    "    #plt.xscale('symlog')\n",
    "ax.set_xscale('linear')\n",
    "ax.tick_params(labelsize=16)\n",
    "ax.grid()\n",
    "# axins.grid()\n",
    "# axins.tick_params(labelsize=14)\n",
    "# axins.set_xlim(87, 89)\n",
    "# axins.set_ylim(0.0, 0.17)\n",
    "\n",
    "# mark_inset(ax, axins, loc1=1, loc2=4, fc=\"none\", ec=\"0.0\")\n",
    "\n",
    "plt.savefig('Res50_err.pdf', bbox_inches='tight')\n",
    "plt.show()\n",
    "# plt.close()"
   ]
  }
 ],
 "metadata": {
  "kernelspec": {
   "display_name": "Python 3",
   "language": "python",
   "name": "python3"
  },
  "language_info": {
   "codemirror_mode": {
    "name": "ipython",
    "version": 3
   },
   "file_extension": ".py",
   "mimetype": "text/x-python",
   "name": "python",
   "nbconvert_exporter": "python",
   "pygments_lexer": "ipython3",
   "version": "3.6.12"
  }
 },
 "nbformat": 4,
 "nbformat_minor": 4
}
