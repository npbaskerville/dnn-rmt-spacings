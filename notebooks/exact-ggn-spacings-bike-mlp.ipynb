{
 "cells": [
  {
   "cell_type": "code",
   "execution_count": 1,
   "metadata": {},
   "outputs": [],
   "source": [
    "import matplotlib.pyplot as plt\n",
    "import matplotlib as mpl\n",
    "import numpy as np\n",
    "from scipy import io\n",
    "from scipy.stats import gaussian_kde\n",
    "import seaborn as sns \n",
    "import h5py\n",
    "import os\n",
    "from tqdm.notebook import tqdm\n",
    "\n",
    "%matplotlib inline"
   ]
  },
  {
   "cell_type": "code",
   "execution_count": 2,
   "metadata": {},
   "outputs": [],
   "source": [
    "data_loc = \"../../dnn-spacings-data/ggn/Bike/MLP\""
   ]
  },
  {
   "cell_type": "markdown",
   "metadata": {},
   "source": [
    "N.B. for an MLP model, this takes a long time for the test set. Train set would take several days (with a GPU), we estimate, so restrict to test set."
   ]
  },
  {
   "cell_type": "code",
   "execution_count": 3,
   "metadata": {},
   "outputs": [],
   "source": [
    "dataset = \"test\"\n",
    "# dataset = \"train\""
   ]
  },
  {
   "cell_type": "code",
   "execution_count": 4,
   "metadata": {},
   "outputs": [],
   "source": [
    "figure_dir = \"../figures/ggn/{}/{}/{}\".format(data_loc.split(\"/\")[-2], data_loc.split(\"/\")[-1], dataset)\n",
    "os.makedirs(figure_dir, exist_ok=True)"
   ]
  },
  {
   "cell_type": "markdown",
   "metadata": {},
   "source": [
    "# Single spectrum - MISSING"
   ]
  },
  {
   "cell_type": "markdown",
   "metadata": {},
   "source": [
    "For an MLP, this just requires too much memory. We'll stick to batch computations.\n",
    "\n",
    "We study the spectrum of a logistic regression Hessian computed over the entire dataset."
   ]
  },
  {
   "cell_type": "code",
   "execution_count": 5,
   "metadata": {},
   "outputs": [],
   "source": [
    "def wigner_surmise(s):\n",
    "    return np.pi*s/2*np.exp(-np.pi*s**2/4)"
   ]
  },
  {
   "cell_type": "code",
   "execution_count": 6,
   "metadata": {},
   "outputs": [],
   "source": [
    "# fin = h5py.File(os.path.join(data_loc, \"bsall_{}.hdf5\".format(dataset)), \"r\")\n",
    "# eigvals = np.sort(np.array(fin[\"hessian_evals\"]).ravel())\n",
    "# fin.close()"
   ]
  },
  {
   "cell_type": "code",
   "execution_count": 7,
   "metadata": {},
   "outputs": [],
   "source": [
    "# sns.distplot(eigvals, kde=False, norm_hist=True);"
   ]
  },
  {
   "cell_type": "markdown",
   "metadata": {},
   "source": [
    "Got issues with large outliers for visualisation."
   ]
  },
  {
   "cell_type": "code",
   "execution_count": 8,
   "metadata": {},
   "outputs": [],
   "source": [
    "# sns.distplot(eigvals[:-200], kde=False, norm_hist=True);"
   ]
  },
  {
   "cell_type": "markdown",
   "metadata": {},
   "source": [
    "There's a lot of degeneracy here - we'll need to remove that."
   ]
  },
  {
   "cell_type": "code",
   "execution_count": 9,
   "metadata": {},
   "outputs": [],
   "source": [
    "# min_val = 1e-5\n",
    "# truncated_eigvals = eigvals[np.abs(eigvals)>min_val]\n",
    "# sns.distplot(truncated_eigvals[:-200], kde=False, norm_hist=True);"
   ]
  },
  {
   "cell_type": "markdown",
   "metadata": {},
   "source": [
    "### Unfolding"
   ]
  },
  {
   "cell_type": "markdown",
   "metadata": {},
   "source": [
    "Let's try smoothing the spectrum to perform the unfolding."
   ]
  },
  {
   "cell_type": "code",
   "execution_count": null,
   "metadata": {},
   "outputs": [],
   "source": [
    "# kde = gaussian_kde(truncated_eigvals)"
   ]
  },
  {
   "cell_type": "code",
   "execution_count": 10,
   "metadata": {},
   "outputs": [],
   "source": [
    "# x = np.linspace(np.min(truncated_eigvals)-0.5, np.max(truncated_eigvals)/30, 200)\n",
    "# plt.plot(x, kde.pdf(x));"
   ]
  },
  {
   "cell_type": "markdown",
   "metadata": {},
   "source": [
    "This is straight from the definition of unfolding."
   ]
  },
  {
   "cell_type": "code",
   "execution_count": 11,
   "metadata": {},
   "outputs": [],
   "source": [
    "# min_val = np.min(truncated_eigvals) - 1\n",
    "# unfolded_eigvals = np.zeros_like(truncated_eigvals)\n",
    "# for i, eigval in tqdm(enumerate(truncated_eigvals)):\n",
    "#     unfolded_eigvals[i] = kde.integrate_box_1d(min_val, eigval)"
   ]
  },
  {
   "cell_type": "code",
   "execution_count": 12,
   "metadata": {},
   "outputs": [],
   "source": [
    "# sns.distplot(unfolded_eigvals, kde=False, norm_hist=True);"
   ]
  },
  {
   "cell_type": "code",
   "execution_count": 13,
   "metadata": {},
   "outputs": [],
   "source": [
    "# diffs = unfolded_eigvals[1:] - unfolded_eigvals[:-1]"
   ]
  },
  {
   "cell_type": "code",
   "execution_count": 14,
   "metadata": {},
   "outputs": [],
   "source": [
    "# sns.distplot(diffs, kde=False, norm_hist=True);\n",
    "# np.mean(diffs)"
   ]
  },
  {
   "cell_type": "markdown",
   "metadata": {},
   "source": [
    "Doesn't work at all. This is not necesssarily a statement about the spectrum in question, but rather that the unfolding cannot be performed correctly with only one example spectrum."
   ]
  },
  {
   "cell_type": "markdown",
   "metadata": {},
   "source": [
    "### Spacing ratios\n",
    "\n",
    "Let's try the spacing ratio approach from arXiv:1212.5611, which removes the unfolding step.\n"
   ]
  },
  {
   "cell_type": "code",
   "execution_count": 6,
   "metadata": {},
   "outputs": [],
   "source": [
    "def ratio_surmise(r):\n",
    "    \"\"\"\n",
    "    From arXiv:1212.5611\n",
    "    \"\"\"\n",
    "    return 27*((r + r**2)/(1 + r + r**2)**(5/2))/8"
   ]
  },
  {
   "cell_type": "code",
   "execution_count": null,
   "metadata": {},
   "outputs": [],
   "source": [
    "# spacings = truncated_eigvals[1:] - truncated_eigvals[:-1]\n",
    "# ratios = spacings[1:]/spacings[:-1]"
   ]
  },
  {
   "cell_type": "code",
   "execution_count": null,
   "metadata": {},
   "outputs": [],
   "source": [
    "# sns.distplot(ratios, kde=False);"
   ]
  },
  {
   "cell_type": "markdown",
   "metadata": {},
   "source": [
    "Looks like we might need to truncate."
   ]
  },
  {
   "cell_type": "code",
   "execution_count": null,
   "metadata": {},
   "outputs": [],
   "source": [
    "# ratio_truncs = np.linspace(5, 15, 3).astype(int)\n",
    "# ratio_truncs = [10]\n",
    "# fig = plt.figure(figsize=(4, 4));\n",
    "# # fig.suptitle(\"MNIST Logistic Hessian spectra --- Full dataset --- Ratio of successive spacings\")\n",
    "\n",
    "# for plot_ind, ratio_trunc in enumerate(ratio_truncs):\n",
    "#     plot_ratios = ratios[ratios < ratio_trunc]\n",
    "# #     sns.distplot(plot_ratios, kde=False, norm_hist=True, label=\"data\", color='mediumblue');\n",
    "#     plt.hist(plot_ratios, label=\"data\", density=True, color=\"darkblue\", bins=35)\n",
    "#     x = np.linspace(np.min(plot_ratios), np.max(plot_ratios), 1000)\n",
    "#     plt.plot(x, ratio_surmise(x), label=\"$P(r)$\", c='r', linewidth=2);\n",
    "#     plt.xlabel(\"$r$\", fontsize=20);\n",
    "# #     plt.title(\"Truncate ratios above {}\".format(ratio_trunc));\n",
    "#     plt.legend(fontsize=20);\n",
    "# plt.tight_layout();\n",
    "# plt.savefig(os.path.join(figure_dir, \"fulldata_spacing_ratios.pdf\"))"
   ]
  },
  {
   "cell_type": "markdown",
   "metadata": {},
   "source": [
    "Success!"
   ]
  },
  {
   "cell_type": "markdown",
   "metadata": {},
   "source": [
    "## Many spectra"
   ]
  },
  {
   "cell_type": "markdown",
   "metadata": {},
   "source": [
    "We use pre-computed spectra of Hessians of logistic regression on MNIST computed over batches. Obtained using code in [GadamX](https://github.com/diegogranziol/GadamX)."
   ]
  },
  {
   "cell_type": "markdown",
   "metadata": {},
   "source": [
    "##### Read the data"
   ]
  },
  {
   "cell_type": "code",
   "execution_count": 7,
   "metadata": {},
   "outputs": [],
   "source": [
    "fin = h5py.File(os.path.join(data_loc, \"bs64.hdf5\".format(dataset)), \"r\")\n",
    "spectra = np.sort(np.array(fin[\"ggn_evals\"]))\n",
    "fin.close()"
   ]
  },
  {
   "cell_type": "code",
   "execution_count": 8,
   "metadata": {},
   "outputs": [
    {
     "data": {
      "text/plain": [
       "(218, 16601)"
      ]
     },
     "execution_count": 8,
     "metadata": {},
     "output_type": "execute_result"
    }
   ],
   "source": [
    "spectra.shape"
   ]
  },
  {
   "cell_type": "code",
   "execution_count": 9,
   "metadata": {},
   "outputs": [],
   "source": [
    "def semi_circle(x):\n",
    "    z = 4 - x**2\n",
    "    return (z>=0)*np.sqrt(z)/(2*np.pi)"
   ]
  },
  {
   "cell_type": "code",
   "execution_count": 11,
   "metadata": {},
   "outputs": [
    {
     "data": {
      "image/png": "[encoded data removed]",
      "text/plain": [
       "<Figure size 360x216 with 1 Axes>"
      ]
     },
     "metadata": {
      "needs_background": "light"
     },
     "output_type": "display_data"
    }
   ],
   "source": [
    "min_val = 1e-5\n",
    "plt.figure(figsize=(5,3));\n",
    "eigvals = np.concatenate(spectra)\n",
    "eigvals = eigvals/(2*np.sqrt(spectra.shape[1]))\n",
    "plt.hist(eigvals, density=True, color=\"darkblue\", bins=30, label=\"Data\");\n",
    "x = np.linspace(np.min(eigvals)-0.01, np.max(eigvals)+0.01, 1000)\n",
    "# plt.plot(x, semi_circle(x), label=\"Semi-circle\", c='r');\n",
    "plt.yscale('log')\n",
    "xticks = plt.xticks(fontsize=10)\n",
    "yticks = plt.yticks(fontsize=15)\n",
    "ax = plt.gca()\n",
    "ax.tick_params(length=12, width=2)\n",
    "plt.tight_layout();\n",
    "# plt.legend();\n",
    "plt.tight_layout();\n",
    "plt.savefig(os.path.join(figure_dir, \"batchdata_global.pdf\"))"
   ]
  },
  {
   "cell_type": "code",
   "execution_count": 12,
   "metadata": {},
   "outputs": [
    {
     "data": {
      "text/plain": [
       "array([[-1.24909934e-06, -7.78433559e-07, -6.79177788e-07, ...,\n",
       "         2.06438613e+00,  4.28876019e+00,  4.46796036e+01],\n",
       "       [-1.11115833e-06, -8.92234596e-07, -6.57204964e-07, ...,\n",
       "         1.57057905e+00,  4.21831131e+00,  4.35099564e+01],\n",
       "       [-9.03404384e-07, -8.23405969e-07, -6.22763139e-07, ...,\n",
       "         1.67093587e+00,  3.91318274e+00,  3.67219696e+01],\n",
       "       ...,\n",
       "       [-1.01954822e-06, -8.71419275e-07, -6.39640291e-07, ...,\n",
       "         1.83669043e+00,  2.86399460e+00,  4.32752075e+01],\n",
       "       [-1.07928133e-06, -8.73164367e-07, -7.69256872e-07, ...,\n",
       "         1.42220449e+00,  3.32842541e+00,  4.84369011e+01],\n",
       "       [-8.11255177e-07, -6.73540569e-07, -4.39480885e-07, ...,\n",
       "         1.58419180e+00,  4.05043459e+00,  4.76803360e+01]])"
      ]
     },
     "execution_count": 12,
     "metadata": {},
     "output_type": "execute_result"
    }
   ],
   "source": [
    "spectra"
   ]
  },
  {
   "cell_type": "markdown",
   "metadata": {},
   "source": [
    "### Unfolding \n",
    "\n",
    "\n",
    "Divide the spectra into two sets and use one set to estimate the mean level density to unfold the other set.\n",
    "\n"
   ]
  },
  {
   "cell_type": "markdown",
   "metadata": {},
   "source": [
    "##### Function to do unfolding\n",
    "\n",
    "Adapted from [unfoldr](https://github.com/tscholak/unfoldr). The algorithm is identical, we have just stripped away a lot of unecessary code to produce a single, easily understood function for use here. We've also swapped Cython for numba, for readability.\n",
    "\n",
    "The logic here is the sort of nasty thing that doesn't fit easily into `numpy`. In pure Python, the loops and conditions are curshingly slow. **Numba jit magic makes this 100s x faster - think hard before  turning it off."
   ]
  },
  {
   "cell_type": "code",
   "execution_count": 13,
   "metadata": {},
   "outputs": [
    {
     "name": "stdout",
     "output_type": "stream",
     "text": [
      "72\n"
     ]
    }
   ],
   "source": [
    "n_unfold = int(spectra.shape[0]/3)\n",
    "print(n_unfold)"
   ]
  },
  {
   "cell_type": "code",
   "execution_count": 14,
   "metadata": {},
   "outputs": [],
   "source": [
    "from numba import jit \n",
    "\n",
    "@jit(nopython=True)\n",
    "def unfold(eigenvalues, unfolding_pool, num_unfolding_spectra):\n",
    "    \"\"\"\n",
    "    Spectra are of size n. Then L=n*num_unfolding_spectra/(1+num_unfolding_spectra).\n",
    "    \n",
    "    :param eigenvalues: array-like of shape (n,) -- the spectrum to be unfolded (sorted ascending)\n",
    "    :param unfolding pool: array-like of shape (L, ) -- the (sorted) evals to use to determine mean spacing.\n",
    "    :param num_unfolding_spectra: int -- the number of spectra (of size n) combined to give unfolding_pool.\n",
    "    \n",
    "    :return: np.ndarray of shape (n - 1) -- the unfolded eigenvalues spacings.\n",
    "    \"\"\"\n",
    "    level_spacing = np.zeros(len(eigenvalues)-1)\n",
    "    number_of_eigenvalues = len(eigenvalues)\n",
    "    len_unfold_pool = len(unfolding_pool)\n",
    "    p = num_unfolding_spectra\n",
    "    i = 0\n",
    "    for j in range(number_of_eigenvalues):\n",
    "        while (i<len_unfold_pool) and (unfolding_pool[i] < eigenvalues[j]):\n",
    "            i += 1\n",
    "        if j + 1 < number_of_eigenvalues:\n",
    "            level_spacing[j] -= i / (p)\n",
    "        if j > 0:\n",
    "            level_spacing[j-1] += i / (p)\n",
    "    return level_spacing"
   ]
  },
  {
   "cell_type": "code",
   "execution_count": 15,
   "metadata": {},
   "outputs": [
    {
     "data": {
      "application/vnd.jupyter.widget-view+json": {
       "model_id": "eb24c645c66e418399595506222b37ef",
       "version_major": 2,
       "version_minor": 0
      },
      "text/plain": [
       "HBox(children=(HTML(value=''), FloatProgress(value=0.0, max=72.0), HTML(value='')))"
      ]
     },
     "metadata": {},
     "output_type": "display_data"
    },
    {
     "name": "stdout",
     "output_type": "stream",
     "text": [
      "\n"
     ]
    },
    {
     "name": "stderr",
     "output_type": "stream",
     "text": [
      "/Users/nicholasbaskerville/anaconda3/envs/torch/lib/python3.8/site-packages/seaborn/distributions.py:2551: FutureWarning: `distplot` is a deprecated function and will be removed in a future version. Please adapt your code to use either `displot` (a figure-level function with similar flexibility) or `histplot` (an axes-level function for histograms).\n",
      "  warnings.warn(msg, FutureWarning)\n"
     ]
    },
    {
     "data": {
      "image/png": "[encoded data removed]",
      "text/plain": [
       "<Figure size 432x288 with 1 Axes>"
      ]
     },
     "metadata": {
      "needs_background": "light"
     },
     "output_type": "display_data"
    }
   ],
   "source": [
    "spectra_to_unfold = np.sort(spectra[:n_unfold, :], axis=1).copy()\n",
    "n_unfold_pool = spectra.shape[0] - n_unfold\n",
    "unfolding_pool = np.sort(spectra[n_unfold:, :].ravel()).copy()\n",
    "unfolded_spectra = np.concatenate([unfold(spectrum, unfolding_pool, n_unfold_pool) for spectrum in tqdm(spectra_to_unfold)])\n",
    "sns.distplot(unfolded_spectra, kde=False, norm_hist=True, label='data');\n",
    "x = np.linspace(np.min(unfolded_spectra), np.max(unfolded_spectra))\n",
    "plt.plot(x, wigner_surmise(x), label=\"Wigner\");\n",
    "plt.legend();\n",
    "\n",
    "plt.xlabel(\"Unfolded spacings\");"
   ]
  },
  {
   "cell_type": "markdown",
   "metadata": {},
   "source": [
    "There's some degeneracy which is distoriting things. We will need to truncate the spectra somehow."
   ]
  },
  {
   "cell_type": "markdown",
   "metadata": {},
   "source": [
    "First let's try taking only the top N eigenvalues from each spectrum."
   ]
  },
  {
   "cell_type": "code",
   "execution_count": 16,
   "metadata": {},
   "outputs": [
    {
     "data": {
      "application/vnd.jupyter.widget-view+json": {
       "model_id": "359003d76dd6430b910650e08d722daa",
       "version_major": 2,
       "version_minor": 0
      },
      "text/plain": [
       "HBox(children=(HTML(value=''), FloatProgress(value=0.0, max=72.0), HTML(value='')))"
      ]
     },
     "metadata": {},
     "output_type": "display_data"
    },
    {
     "name": "stdout",
     "output_type": "stream",
     "text": [
      "\n"
     ]
    },
    {
     "name": "stderr",
     "output_type": "stream",
     "text": [
      "/Users/nicholasbaskerville/anaconda3/envs/torch/lib/python3.8/site-packages/seaborn/distributions.py:2551: FutureWarning: `distplot` is a deprecated function and will be removed in a future version. Please adapt your code to use either `displot` (a figure-level function with similar flexibility) or `histplot` (an axes-level function for histograms).\n",
      "  warnings.warn(msg, FutureWarning)\n"
     ]
    },
    {
     "data": {
      "image/png": "[encoded data removed]",
      "text/plain": [
       "<Figure size 432x288 with 1 Axes>"
      ]
     },
     "metadata": {
      "needs_background": "light"
     },
     "output_type": "display_data"
    }
   ],
   "source": [
    "top_N = 2000\n",
    "\n",
    "spectra_to_unfold = np.sort(spectra[:n_unfold, :], axis=1)[:, -top_N:]\n",
    "n_unfold_pool = spectra.shape[0] - n_unfold\n",
    "unfolding_pool = np.sort(np.sort(spectra[n_unfold:, :], axis=1)[:, -top_N:].ravel())\n",
    "unfolded_spectra = [unfold(spectrum, unfolding_pool, n_unfold_pool) for spectrum in tqdm(spectra_to_unfold)]\n",
    "unfolded_spectra = np.concatenate(unfolded_spectra);\n",
    "sns.distplot(unfolded_spectra, kde=False, norm_hist=True);\n",
    "x = np.linspace(np.min(unfolded_spectra), np.max(unfolded_spectra), 1000)\n",
    "plt.plot(x, wigner_surmise(x), label='Wigner');\n",
    "plt.legend();"
   ]
  },
  {
   "cell_type": "markdown",
   "metadata": {},
   "source": [
    "Looks okay. There's clearly repulsion.\n",
    "\n",
    "Taking the top N eigenvalues feels clunky. It would be more elegant to impose a spectral cut-off."
   ]
  },
  {
   "cell_type": "code",
   "execution_count": 17,
   "metadata": {},
   "outputs": [
    {
     "name": "stderr",
     "output_type": "stream",
     "text": [
      "<ipython-input-17-a594b92d5f21>:4: RuntimeWarning: divide by zero encountered in log10\n",
      "  plt.plot(np.log10(min_vals), n_smaller);\n"
     ]
    },
    {
     "data": {
      "image/png": "[encoded data removed]",
      "text/plain": [
       "<Figure size 288x288 with 1 Axes>"
      ]
     },
     "metadata": {
      "needs_background": "light"
     },
     "output_type": "display_data"
    }
   ],
   "source": [
    "plt.figure(figsize=(4,4))\n",
    "min_vals = [1e-500, 1e-100, 1e-40, 1e-30, 1e-20, 1e-10, 1e-8, 1e-6, 1e-4]\n",
    "n_smaller = [np.sum(np.abs(spectra) < min_val)/np.prod(spectra.shape) for min_val in min_vals]\n",
    "plt.plot(np.log10(min_vals), n_smaller);\n",
    "# plt.xscale('log');\n",
    "plt.xlabel(\"$\\log_{10}\\epsilon$\", fontsize=20);\n",
    "plt.ylabel(\"prop of e-vals $< \\epsilon$\", fontsize=20);\n",
    "xticks = plt.xticks(fontsize=13)\n",
    "yticks = plt.yticks(fontsize=15)\n",
    "ax = plt.gca()\n",
    "ax.tick_params(length=12, width=2)\n",
    "# ax.ticklabel_format(axis='x', style='sci', scilimits=(-500, -4))\n",
    "plt.tight_layout();\n",
    "plt.savefig(os.path.join(figure_dir, \"proportion_hessian_evals_below_cutoff.pdf\"))"
   ]
  },
  {
   "cell_type": "code",
   "execution_count": 18,
   "metadata": {},
   "outputs": [
    {
     "data": {
      "application/vnd.jupyter.widget-view+json": {
       "model_id": "3d66599f4490461c9880fc5ba15754a7",
       "version_major": 2,
       "version_minor": 0
      },
      "text/plain": [
       "HBox(children=(HTML(value=''), FloatProgress(value=0.0, max=2.0), HTML(value='')))"
      ]
     },
     "metadata": {},
     "output_type": "display_data"
    },
    {
     "data": {
      "application/vnd.jupyter.widget-view+json": {
       "model_id": "f720d4b07a2b4f49b8c92c673c80a6f8",
       "version_major": 2,
       "version_minor": 0
      },
      "text/plain": [
       "HBox(children=(HTML(value=''), FloatProgress(value=0.0, max=72.0), HTML(value='')))"
      ]
     },
     "metadata": {},
     "output_type": "display_data"
    },
    {
     "data": {
      "image/png": "[encoded data removed]",
      "text/plain": [
       "<Figure size 288x288 with 1 Axes>"
      ]
     },
     "metadata": {
      "needs_background": "light"
     },
     "output_type": "display_data"
    },
    {
     "data": {
      "application/vnd.jupyter.widget-view+json": {
       "model_id": "a8800199ab4449119e4dbf5a794281bc",
       "version_major": 2,
       "version_minor": 0
      },
      "text/plain": [
       "HBox(children=(HTML(value=''), FloatProgress(value=0.0, max=72.0), HTML(value='')))"
      ]
     },
     "metadata": {},
     "output_type": "display_data"
    },
    {
     "data": {
      "image/png": "[encoded data removed]",
      "text/plain": [
       "<Figure size 288x288 with 1 Axes>"
      ]
     },
     "metadata": {
      "needs_background": "light"
     },
     "output_type": "display_data"
    },
    {
     "data": {
      "image/png": "[encoded data removed]",
      "text/plain": [
       "<Figure size 288x288 with 1 Axes>"
      ]
     },
     "metadata": {
      "needs_background": "light"
     },
     "output_type": "display_data"
    },
    {
     "name": "stdout",
     "output_type": "stream",
     "text": [
      "\n"
     ]
    }
   ],
   "source": [
    "min_vals = [0, 1e-20]\n",
    "spacing_trunc = 7\n",
    "\n",
    "\n",
    "for plot_ind, min_val in tqdm(enumerate(min_vals), total=len(min_vals)):\n",
    "    plt.figure(figsize=(4,4))\n",
    "    spectra_to_unfold = spectra[:n_unfold, :].copy()\n",
    "    spectra_to_unfold = [np.sort(spectrum[np.abs(spectrum) > min_val]) for spectrum in spectra_to_unfold]\n",
    "\n",
    "    n_unfold_pool = spectra.shape[0] - n_unfold\n",
    "    unfolding_pool = spectra[n_unfold:, :].copy()\n",
    "    unfolding_pool = np.sort(np.concatenate([spectrum[np.abs(spectrum) > min_val] for spectrum in unfolding_pool]))\n",
    "\n",
    "    unfolded_spectra = np.concatenate([unfold(spectrum, unfolding_pool, n_unfold_pool) for spectrum in tqdm(spectra_to_unfold, leave=False)])\n",
    "\n",
    "    plt.hist(unfolded_spectra, label=\"Data\", density=True, color=\"darkblue\", bins=35)\n",
    "    x = np.linspace(np.min(unfolded_spectra), np.max(unfolded_spectra), 1000)\n",
    "    plt.plot(x, wigner_surmise(x), label=\"Wigner\", c='r', linewidth=2);\n",
    "    \n",
    "\n",
    "    plt.legend(fontsize=20);\n",
    "    xticks = plt.xticks(fontsize=15)\n",
    "    yticks = plt.yticks(fontsize=15)\n",
    "    ax = plt.gca()\n",
    "    ax.tick_params(length=12, width=2)\n",
    "    plt.xlabel(\"Unfolded spacings\", fontsize=20);\n",
    "    plt.tight_layout();\n",
    "    plt.savefig(os.path.join(figure_dir, \"bs64_unfolding_trunc{}.pdf\".format(plot_ind)))\n",
    "    plt.show()\n",
    "    \n",
    "    if plot_ind == len(min_vals) - 1:\n",
    "        plt.figure(figsize=(4,4))\n",
    "#         unfolded_spectra = unfolded_spectra[unfolded_spectra < spacing_trunc]\n",
    "        plt.hist(unfolded_spectra, label=\"Data\", density=True, color=\"darkblue\", bins=50)\n",
    "        x = np.linspace(np.min(unfolded_spectra), np.max(unfolded_spectra), 1000)\n",
    "        plt.plot(x, wigner_surmise(x), label=\"Wigner\", c='r', linewidth=2);\n",
    "        plt.xlim([0, spacing_trunc])\n",
    "\n",
    "        plt.legend(fontsize=20);\n",
    "        xticks = plt.xticks(fontsize=15)\n",
    "        yticks = plt.yticks(fontsize=15)\n",
    "        ax = plt.gca()\n",
    "        ax.tick_params(length=12, width=2)\n",
    "        plt.xlabel(\"Unfolded spacings\", fontsize=20);\n",
    "        plt.tight_layout();\n",
    "        plt.savefig(os.path.join(figure_dir, \"bs64_unfolding_trunc{}_uppertrunc.pdf\".format(plot_ind)))\n",
    "        plt.show()\n",
    "        \n",
    "#     sns.distplot(unfolded_spectra, kde=False, norm_hist=True, label=\"data\");\n",
    "#     x = np.linspace(np.min(unfolded_spectra), np.max(unfolded_spectra))\n",
    "#     plt.plot(x, wigner_surmise(x), label=\"Wigner\");\n",
    "#     plt.legend();\n",
    "#     plt.xlabel(\"Unfolded spacings\");\n",
    "\n"
   ]
  },
  {
   "cell_type": "markdown",
   "metadata": {},
   "source": [
    "### Spacing ratios"
   ]
  },
  {
   "cell_type": "code",
   "execution_count": 19,
   "metadata": {},
   "outputs": [],
   "source": [
    "def ratio_surmise(r):\n",
    "    \"\"\"\n",
    "    From arXiv:1212.5611\n",
    "    \"\"\"\n",
    "    return 27*((r + r**2)/(1 + r + r**2)**(5/2))/8"
   ]
  },
  {
   "cell_type": "code",
   "execution_count": 20,
   "metadata": {},
   "outputs": [
    {
     "data": {
      "image/png": "[encoded data removed]",
      "text/plain": [
       "<Figure size 288x288 with 1 Axes>"
      ]
     },
     "metadata": {
      "needs_background": "light"
     },
     "output_type": "display_data"
    }
   ],
   "source": [
    "min_val = 1e-10\n",
    "ratio_trunc = 10\n",
    "\n",
    "fig = plt.figure(figsize=(4, 4));\n",
    "\n",
    "sorted_spectra = [np.sort(spectrum[np.abs(spectrum) > min_val]) for spectrum in spectra]\n",
    "diffs = [ss[1:] - ss[:-1] for ss in sorted_spectra]\n",
    "ratios = np.concatenate([diff[1:]/diff[:-1] for diff in diffs])\n",
    "ratios = ratios[ratios < ratio_trunc]\n",
    "plt.hist(ratios, density=True, label=\"Data\", color='darkblue', bins=40);\n",
    "x = np.linspace(np.min(ratios), np.max(ratios), 1000)\n",
    "plt.plot(x, ratio_surmise(x), label=\"$P(r)$\", c='r');\n",
    "plt.xlabel(\"$r$\", fontsize=20);\n",
    "plt.legend(fontsize=20);\n",
    "xticks = plt.xticks(fontsize=15)\n",
    "yticks = plt.yticks(fontsize=15)\n",
    "ax = plt.gca()\n",
    "ax.tick_params(length=12, width=2)\n",
    "plt.tight_layout();\n",
    "plt.savefig(os.path.join(figure_dir, \"batches_spacing_ratios.pdf\"))"
   ]
  },
  {
   "cell_type": "code",
   "execution_count": null,
   "metadata": {},
   "outputs": [],
   "source": []
  }
 ],
 "metadata": {
  "kernelspec": {
   "display_name": "torch",
   "language": "python",
   "name": "torch"
  },
  "language_info": {
   "codemirror_mode": {
    "name": "ipython",
    "version": 3
   },
   "file_extension": ".py",
   "mimetype": "text/x-python",
   "name": "python",
   "nbconvert_exporter": "python",
   "pygments_lexer": "ipython3",
   "version": "3.8.5"
  }
 },
 "nbformat": 4,
 "nbformat_minor": 4
}
